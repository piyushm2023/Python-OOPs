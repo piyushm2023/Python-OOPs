{
  "nbformat": 4,
  "nbformat_minor": 0,
  "metadata": {
    "colab": {
      "provenance": []
    },
    "kernelspec": {
      "name": "python3",
      "display_name": "Python 3"
    },
    "language_info": {
      "name": "python"
    }
  },
  "cells": [
    {
      "cell_type": "markdown",
      "source": [
        "\n",
        "***Python OOPs Questions***\n",
        " ---\n",
        "\n",
        "---\n",
        "\n",
        "\n",
        "\n",
        "\n",
        "\n",
        "\n",
        "\n"
      ],
      "metadata": {
        "id": "TS1T4QCmEouf"
      }
    },
    {
      "cell_type": "markdown",
      "source": [
        "1. What is Object-Oriented Programming (OOP)?                                 \n",
        "    ans = Object-Oriented Programming (OOP) in Python is a programming paradigm that revolves around the concept of \"objects,\" which can contain data in the form of attributes and code in the form of methods. It allows you to structure your code in a way that models real-world entities and their interactions."
      ],
      "metadata": {
        "id": "Pswjf6FuFXR8"
      }
    },
    {
      "cell_type": "markdown",
      "source": [
        "2. What is a class in OOP?                                                    \n",
        "    ans = class in OOP is a fundamental building block that allows you to create well-structured, reusable, and maintainable code by defining the characteristics and behaviors of objects."
      ],
      "metadata": {
        "id": "btS41-EnGeeU"
      }
    },
    {
      "cell_type": "markdown",
      "source": [
        "3. What is an object in OOP ?                                                 \n",
        "    ans = object in OOP is a self-contained entity that bundles together data (attributes) and the functions (methods) that operate on that data. This allows you to model real-world entities and their interactions in a more organized and intuitive way, leading to more modular, reusable, and maintainable code."
      ],
      "metadata": {
        "id": "J084dsk2HZ-w"
      }
    },
    {
      "cell_type": "markdown",
      "source": [
        "4. What is the difference between abstraction and encapsulation ?               \n",
        " ans    =   Abstraction : The abstract view provided by an\n",
        "      object is often achieved through encapsulation. The internal data and the methods that implement the abstract behavior are bundled together and access to the data is controlled.\n",
        "    * Encapsulation : By hiding the complex implementation details, encapsulation allows the user to focus on the essential functionalities exposed through the object's public interface, thus supporting the goals of abstraction."
      ],
      "metadata": {
        "id": "8byZJTtYIEjt"
      }
    },
    {
      "cell_type": "markdown",
      "source": [
        "5. What are dunder methods in Python ?                                        \n",
        "  ans = 1) Dunder method are the method defined by build in class in python .\n",
        "\n",
        "   2) classes define these type of method for creating custom method or object .\n",
        "   \n",
        "    3) impleamenting operator overloding in python.\n",
        "   \n",
        "   4) d + under (double + undercase) full form dunder"
      ],
      "metadata": {
        "id": "WinvkO-SJyj4"
      }
    },
    {
      "cell_type": "markdown",
      "source": [
        "6. Explain the concept of inheritance in OOP.                                 \n",
        "    ans = inheritance in OOP that allows for the creation of new classes based on existing ones. The new class, known as the derived class or subclass, inherits the properties (attributes) and behaviors (methods) of the existing class, called the base class or superclass. This fundamental concept facilitates the creation of relationships between classes, mirroring real-world categorizations and promoting significant code reusability."
      ],
      "metadata": {
        "id": "rtpLBGGELvJI"
      }
    },
    {
      "cell_type": "markdown",
      "source": [
        "7. What is polymorphism in OOP ?                                              \n",
        " ans = poly mean and morphism mean from or state refer to an object taking several form depending on method or data. function is talking  diff from  with respect to diff data passent. polymorphism in two way"
      ],
      "metadata": {
        "id": "OLE1-6eGOGiv"
      }
    },
    {
      "cell_type": "markdown",
      "source": [
        "8. How is encapsulation achieved in Python ?                                  \n",
        "    ans = Encapsulation in Python is achieved by restricting access to attributes and methods of a class from outside the class. While Python doesn't have strict access modifiers like private in some other languages, it follows conventions to indicate the intended level of access."
      ],
      "metadata": {
        "id": "owVCxS9YQ3lC"
      }
    },
    {
      "cell_type": "markdown",
      "source": [
        "9. What is a constructor in Python ?                                          \n",
        "    ans = the constructor is the entry point for the creation of an object. It's the first piece of code that runs within the context of a new object, and its proper implementation is crucial for the correct and reliable behavior of objects throughout their existence. Without constructors, objects might be created in an undefined or inconsistent state, leading to unpredictable program behavior."
      ],
      "metadata": {
        "id": "GFLMBL_gViN3"
      }
    },
    {
      "cell_type": "markdown",
      "source": [
        "10. What are class and static methods in Python ?                             \n",
        "       ans = class methods and static methods in object-oriented programming represent different ways to associate behavior with a class itself, rather than with individual instances (objects) of that class. They serve distinct conceptual roles in how we interact with and organize class-related functionality."
      ],
      "metadata": {
        "id": "U4yAQdFtWEP4"
      }
    },
    {
      "cell_type": "markdown",
      "source": [
        "11. What is method overloading in Python ?                                    \n",
        "   ans = method overloading in programming is a concept related to polymorphism (specifically, compile-time polymorphism or static polymorphism). It allows a single identifier (in this case, a method name) to refer to multiple distinct methods within the same scope (typically a class), differentiated by their signatures. A method's signature typically includes its name and the number and types of its parameters."
      ],
      "metadata": {
        "id": "mkC6yOFkWl_1"
      }
    },
    {
      "cell_type": "markdown",
      "source": [
        "12. What is method overriding in OOP ?                                        \n",
        "   ans = method overriding is a key concept in object-oriented programming (OOP) that allows a subclass to provide a specific implementation for a method that is already defined in its superclass (or parent class). When a method is overridden, the version in the subclass is executed instead of the version in the superclass when that method is called on an object of the subclass."
      ],
      "metadata": {
        "id": "jpjWTrddXTm1"
      }
    },
    {
      "cell_type": "markdown",
      "source": [
        "13. What is a property decorator in Python ?                                  \n",
        "  ans = property decorator allows you to define methods for getting, setting, and deleting an attribute, but these methods are accessed using the same simple attribute access syntax. This abstracts away the fact that you're actually calling methods behind the scenes. From the perspective of code that uses the class, interacting with a property feels just like interacting with a regular attribute. This simplifies the interface of the class."
      ],
      "metadata": {
        "id": "JVjj5DSzYKpz"
      }
    },
    {
      "cell_type": "markdown",
      "source": [
        "14. Why is polymorphism important in OOP ?                                    \n",
        "     ans =  polymorphism is a powerful feature in Python OOP that enhances code flexibility, reusability, organization, and maintainability by allowing objects of different classes to respond to the same interface in their own way."
      ],
      "metadata": {
        "id": "iivatR1XZ026"
      }
    },
    {
      "cell_type": "markdown",
      "source": [
        "15. What is an abstract class in Python ?                                     \n",
        "    ans = An abstract class in Python is a class that cannot be instantiated directly. Its purpose is to serve as a blueprint for other classes. It defines a set of methods that its subclasses must implemen"
      ],
      "metadata": {
        "id": "-UGxRF1xbC-J"
      }
    },
    {
      "cell_type": "markdown",
      "source": [
        "16. What are the advantages of OOP ?                                          \n",
        "  ans = OOP in Python helps you write code that is more organized, reusable, flexible, and easier to manage as your projects grow in complexity. It allows you to model real-world entities and their interactions in a more natural and intuitive way."
      ],
      "metadata": {
        "id": "mctyTdy1b6r5"
      }
    },
    {
      "cell_type": "markdown",
      "source": [
        "17. What is the difference between a class variable and an instance variable ?\n",
        "\n",
        "     ans = class variables describe the class as a whole, while instance variables describe the individual objects created from that class. This distinction is fundamental for modeling real-world entities and their relationships in an object-oriented way."
      ],
      "metadata": {
        "id": "wsmY5nyIcnBo"
      }
    },
    {
      "cell_type": "markdown",
      "source": [
        "18. What is multiple inheritance in Python ?                                  \n",
        "   ans = Multiple inheritance in Python is a feature that allows a class to inherit attributes and methods from more than one parent class. This enables a class to combine functionalities from different sources, creating a more versatile and specialized class. When a class inherits from multiple parent classes, it gains access to all the attributes and methods of those parent classes. If there are name conflicts"
      ],
      "metadata": {
        "id": "mTMPJ2dEdWRd"
      }
    },
    {
      "cell_type": "markdown",
      "source": [
        "19. H Explain the purpose of ‘’__str__’ and ‘__repr__’ ‘ methods in Python ?  \n",
        "   ans = __str__: This method aims to provide a human-readable, informal string representation of an object. It is used when the str() function is called on an object    \n",
        "__repr__: This method aims to provide an unambiguous, formal string representation of an object. It is used when the repr() function is called on an object"
      ],
      "metadata": {
        "id": "HoGTGL1cXu8-"
      }
    },
    {
      "cell_type": "markdown",
      "source": [
        "20. What is the significance of the ‘super()’ function in Python ?            \n",
        "  ans = super() function in Python is used to access methods and properties from a parent class within a child class. It is especially useful in scenarios involving inheritance, allowing for method overriding and extension while maintaining code reusability and avoiding redundancy."
      ],
      "metadata": {
        "id": "3ItK121kYbgV"
      }
    },
    {
      "cell_type": "markdown",
      "source": [
        "21. What is the significance of the __del__ method in Python ?                \n",
        "    ans = The __del__ method in Python, often referred to as a destructor, is a special method called when an object is about to be destroyed. It provides an opportunity to perform cleanup actions, such as releasing external resources or finalizing operations, before the object's memory is reclaimed.\n"
      ],
      "metadata": {
        "id": "zAxfdrxxY62m"
      }
    },
    {
      "cell_type": "markdown",
      "source": [
        "22. What is the difference between @staticmethod and @classmethod in Python?    \n",
        " ans = @staticmethod :\n",
        " 1) It does not receive any implicit argument\n",
        "\n",
        "      2) It behaves like a regular function defined inside a class\n",
        "\n",
        "     3) It cannot access or modify the class state or instance state.\n",
        "\n",
        "    @classmethod:\n",
        "1) It receives the class itself as the first argument, conventionally named cls\n",
        "\n",
        "       2) It can access and modify class-level attributes.\n",
        "\n",
        "   3) It cannot access instance-specific attributes directly.\n"
      ],
      "metadata": {
        "id": "QNhLuVHpZUXB"
      }
    },
    {
      "cell_type": "markdown",
      "source": [
        "23. How does polymorphism work in Python with inheritance ?                   \n",
        "    ans = Polymorphism, meaning \"many forms,\" enables objects of different classes to respond to the same method call in their own specific ways. When combined with inheritance in Python, it allows a child class to redefine a method from its parent class, a process known as method overriding. This mechanism ensures that the correct version of a method is called based on the object's actual type"
      ],
      "metadata": {
        "id": "tDYh57DKcBza"
      }
    },
    {
      "cell_type": "markdown",
      "source": [
        "24. What is method chaining in Python OOP ?                                   \n",
        " ans = Method chaining in Python is a programming technique used in object-oriented programming where multiple methods are called sequentially on the same object in a single line of code. This is achieved by having each method in the chain return the object instance (self) after performing its operation."
      ],
      "metadata": {
        "id": "Wemm-SRPcfxV"
      }
    },
    {
      "cell_type": "markdown",
      "source": [
        "25. What is the purpose of the __call__ method in Python ?                    \n",
        " ans = The __call__ method in Python enables instances of a class to be called like regular functions. When a class defines the __call__ method, its instances become callable objects. This means that you can apply the function call syntax () directly to an instance of the class, triggering the execution of the code within the __call__ method."
      ],
      "metadata": {
        "id": "LY0Rzl_fdAev"
      }
    },
    {
      "cell_type": "markdown",
      "source": [
        "# ***Practical Questions***\n",
        "\n",
        "---\n",
        "\n"
      ],
      "metadata": {
        "id": "Ex-6YNPOddw9"
      }
    },
    {
      "cell_type": "markdown",
      "source": [
        "1. Create a parent class Animal with a method speak() that prints a generic message. Create a child class Dog that overrides the speak() method to print \"Bark!\"."
      ],
      "metadata": {
        "id": "q9ErCC-Hd8YA"
      }
    },
    {
      "cell_type": "code",
      "execution_count": 1,
      "metadata": {
        "id": "5zVq1-GREdSR",
        "colab": {
          "base_uri": "https://localhost:8080/"
        },
        "outputId": "7b5dd040-cd66-4963-c28a-bcb80110825f"
      },
      "outputs": [
        {
          "output_type": "stream",
          "name": "stdout",
          "text": [
            "Bark!\n"
          ]
        }
      ],
      "source": [
        "\n",
        "class Animal:\n",
        "    def speak(self):\n",
        "        print(\"Animal is speaking\")\n",
        "\n",
        "class Dog(Animal):\n",
        "    def speak(self):\n",
        "        print(\"Bark!\")\n",
        "\n",
        "animal = Animal()\n",
        "dog = Dog()\n",
        "\n",
        "dog.speak()"
      ]
    },
    {
      "cell_type": "markdown",
      "source": [
        "2. Write a program to create an abstract class Shape with a method area(). Derive classes Circle and Rectangle\n",
        "from it and implement the area() method in both.\n",
        "\n",
        "\n"
      ],
      "metadata": {
        "id": "4dJTgg-sfBb5"
      }
    },
    {
      "cell_type": "code",
      "source": [
        "import math\n",
        "from abc import ABC, abstractmethod\n",
        "\n",
        "class Shape(ABC):\n",
        "    @abstractmethod\n",
        "    def area(self):\n",
        "        pass\n",
        "\n",
        "class Circle(Shape):\n",
        "    def __init__(self, radius):\n",
        "        self.radius = radius\n",
        "    def area(self):\n",
        "        return math.pi * self.radius**2\n",
        "\n",
        "class Rectangle(Shape):\n",
        "    def __init__(self, length, width):\n",
        "        self.length = length\n",
        "        self.width = width\n",
        "    def area(self):\n",
        "        return self.length * self.width\n",
        "\n",
        "c = Circle(3)\n",
        "r = Rectangle(2, 5)\n",
        "\n",
        "print(f\"Circle area: {c.area():.2f}\")\n",
        "print(f\"Rectangle area: {r.area()}\")"
      ],
      "metadata": {
        "colab": {
          "base_uri": "https://localhost:8080/"
        },
        "id": "zmDUaOc4e8LU",
        "outputId": "2e67f3ba-f9b3-41d3-902d-2856910bf21b"
      },
      "execution_count": 5,
      "outputs": [
        {
          "output_type": "stream",
          "name": "stdout",
          "text": [
            "Circle area: 28.27\n",
            "Rectangle area: 10\n"
          ]
        }
      ]
    },
    {
      "cell_type": "markdown",
      "source": [
        "3. Implement a multi-level inheritance scenario where a class Vehicle has an attribute type. Derive a class Car\n",
        "and further derive a class ElectricCar that adds a battery attribute."
      ],
      "metadata": {
        "id": "SbAVJX_eguI6"
      }
    },
    {
      "cell_type": "code",
      "source": [
        "class Vehicle:\n",
        "    # Renamed init to __init__ to make it the constructor\n",
        "    def __init__(self, type):\n",
        "        self.type = type\n",
        "\n",
        "    def display_type(self):\n",
        "        print(f\"Vehicle type: {self.type}\")\n",
        "\n",
        "class Car(Vehicle):\n",
        "    # Renamed init to __init__ to make it the constructor\n",
        "    def __init__(self, type, model):\n",
        "        # Corrected super() call to use the correct method name\n",
        "        super().__init__(type)\n",
        "        self.model = model\n",
        "\n",
        "    def display_model(self):\n",
        "        print(f\"Car model: {self.model}\")\n",
        "\n",
        "class ElectricCar(Car):\n",
        "    # Renamed init to __init__ to make it the constructor\n",
        "    def __init__(self, type, model, battery_capacity):\n",
        "        # Corrected super() call to use the correct method name\n",
        "        super().__init__(type, model)\n",
        "        self.battery_capacity = battery_capacity\n",
        "\n",
        "    def display_battery(self):\n",
        "        print(f\"Battery capacity: {self.battery_capacity} kWh\")\n",
        "\n",
        "# Example usage:\n",
        "# Corrected 'name' to '__name__' for the standard entry point check\n",
        "if __name__ == \"__main__\":\n",
        "    generic_vehicle = Vehicle(\"bmw\")\n",
        "    generic_vehicle.display_type()\n",
        "    print(\"-\" * 20)\n",
        "\n",
        "    my_car = Car(\"bmw\", \"f12\")\n",
        "    my_car.display_type()\n",
        "    my_car.display_model()\n",
        "    print(\"-\" * 20)\n",
        "\n",
        "    my_electric_car = ElectricCar(\"Electric\", \"Tesla Model 3\", 75)\n",
        "    my_electric_car.display_type()\n",
        "    my_electric_car.display_model()\n",
        "    my_electric_car.display_battery()"
      ],
      "metadata": {
        "colab": {
          "base_uri": "https://localhost:8080/"
        },
        "id": "30UAW6HBin1-",
        "outputId": "90b80bf3-3abd-471f-b5c5-505bda14eb07"
      },
      "execution_count": 22,
      "outputs": [
        {
          "output_type": "stream",
          "name": "stdout",
          "text": [
            "Vehicle type: bmw\n",
            "--------------------\n",
            "Vehicle type: bmw\n",
            "Car model: f12\n",
            "--------------------\n",
            "Vehicle type: Electric\n",
            "Car model: Tesla Model 3\n",
            "Battery capacity: 75 kWh\n"
          ]
        }
      ]
    },
    {
      "cell_type": "markdown",
      "source": [
        "4. Demonstrate polymorphism by creating a base class Bird with a method fly(). Create two derived classes\n",
        "Sparrow and Penguin that override the fly() method.\n"
      ],
      "metadata": {
        "id": "oL1BXBlrkubB"
      }
    },
    {
      "cell_type": "code",
      "source": [
        "class Bird:\n",
        "    def fly(self):\n",
        "        print(\"Generic fly.\")\n",
        "\n",
        "class Sparrow(Bird):\n",
        "    def fly(self):\n",
        "        print(\"Fluttering wings.\")\n",
        "\n",
        "class Penguin(Bird):\n",
        "    def fly(self):\n",
        "        print(\"Swimming.\")\n",
        "\n",
        "def action(bird):\n",
        "    bird.fly()\n",
        "\n",
        "generic = Bird()\n",
        "sparrow = Sparrow()\n",
        "penguin = Penguin()\n",
        "\n",
        "action(generic)\n",
        "action(sparrow)\n",
        "action(penguin)"
      ],
      "metadata": {
        "colab": {
          "base_uri": "https://localhost:8080/"
        },
        "id": "8XXASNYkipdt",
        "outputId": "52cef6db-7e46-4e0c-a90b-07a2d7d70315"
      },
      "execution_count": 23,
      "outputs": [
        {
          "output_type": "stream",
          "name": "stdout",
          "text": [
            "Generic fly.\n",
            "Fluttering wings.\n",
            "Swimming.\n"
          ]
        }
      ]
    },
    {
      "cell_type": "markdown",
      "source": [
        "5. Write a program to demonstrate encapsulation by creating a class BankAccount with private attributes\n",
        "balance and methods to deposit, withdraw, and check balance."
      ],
      "metadata": {
        "id": "9g5RoENil1ML"
      }
    },
    {
      "cell_type": "code",
      "source": [
        "class BankAccount:\n",
        "\n",
        "    def __init__(self, acc_num, balance=0):\n",
        "        self.__acc_num = acc_num\n",
        "        self.__balance = balance\n",
        "\n",
        "    def deposit(self, amount):\n",
        "        if amount > 0:\n",
        "            self.__balance += amount\n",
        "            print(f\"Deposited ${amount}. Balance: ${self.__balance}\")\n",
        "\n",
        "    def withdraw(self, amount):\n",
        "        if 0 < amount <= self.__balance:\n",
        "            self.__balance -= amount\n",
        "            print(f\"Withdrew ${amount}. Balance: ${self.__balance}\")\n",
        "        elif amount > self.__balance:\n",
        "            print(\"Insufficient balance.\")\n",
        "\n",
        "    def check_balance(self):\n",
        "        print(f\"Balance: ${self.__balance}\")\n",
        "\n",
        "acc = BankAccount(\"123\", 100)\n",
        "acc.deposit(50)\n",
        "acc.withdraw(20)\n",
        "acc.withdraw(200)\n",
        "acc.check_balance()"
      ],
      "metadata": {
        "colab": {
          "base_uri": "https://localhost:8080/"
        },
        "id": "UeXImHfDlnNX",
        "outputId": "08efc431-33fd-4d33-dcd2-5af997ab57a8"
      },
      "execution_count": 26,
      "outputs": [
        {
          "output_type": "stream",
          "name": "stdout",
          "text": [
            "Deposited $50. Balance: $150\n",
            "Withdrew $20. Balance: $130\n",
            "Insufficient balance.\n",
            "Balance: $130\n"
          ]
        }
      ]
    },
    {
      "cell_type": "markdown",
      "source": [
        "6. Demonstrate runtime polymorphism using a method play() in a base class Instrument. Derive classes Guitar\n",
        "and Piano that implement their own version of play().\n",
        "\n",
        "\n"
      ],
      "metadata": {
        "id": "cVxTzIGbmmqy"
      }
    },
    {
      "cell_type": "code",
      "source": [
        "class Instrument:\n",
        "    def play(self):\n",
        "        print(\"Generic sound.\")\n",
        "\n",
        "class Guitar(Instrument):\n",
        "    def play(self):\n",
        "        print(\"Strum.\")\n",
        "\n",
        "class Piano(Instrument):\n",
        "    def play(self):\n",
        "        print(\"Keys.\")\n",
        "\n",
        "def play_it(instrument):\n",
        "    instrument.play()\n",
        "\n",
        "instr = Instrument()\n",
        "guitar = Guitar()\n",
        "piano = Piano()\n",
        "\n",
        "play_it(instr)\n",
        "play_it(guitar)\n",
        "play_it(piano)"
      ],
      "metadata": {
        "colab": {
          "base_uri": "https://localhost:8080/"
        },
        "id": "0ydmaBQ5mUi6",
        "outputId": "0e6f38b1-a110-46ac-c00f-5f84ada25e17"
      },
      "execution_count": 27,
      "outputs": [
        {
          "output_type": "stream",
          "name": "stdout",
          "text": [
            "Generic sound.\n",
            "Strum.\n",
            "Keys.\n"
          ]
        }
      ]
    },
    {
      "cell_type": "markdown",
      "source": [
        "7. Create a class MathOperations with a class method add_numbers() to add two numbers and a static\n",
        "method subtract_numbers() to subtract two numbers."
      ],
      "metadata": {
        "id": "IvUaHhLUnMqG"
      }
    },
    {
      "cell_type": "code",
      "source": [
        "class MathOps:\n",
        "    @classmethod\n",
        "    def add(cls, a, b):\n",
        "        return a + b\n",
        "\n",
        "    @staticmethod\n",
        "    def subtract(a, b):\n",
        "        return a - b\n",
        "\n",
        "result_add = MathOps.add(5, 2)\n",
        "result_sub = MathOps.subtract(8, 3)\n",
        "\n",
        "print(f\"Add: {result_add}\")\n",
        "print(f\"Subtract: {result_sub}\")"
      ],
      "metadata": {
        "colab": {
          "base_uri": "https://localhost:8080/"
        },
        "id": "ROJm-yfnnK7Q",
        "outputId": "b6eb5e9d-dfc0-403e-e01f-1a3654a13cad"
      },
      "execution_count": 28,
      "outputs": [
        {
          "output_type": "stream",
          "name": "stdout",
          "text": [
            "Add: 7\n",
            "Subtract: 5\n"
          ]
        }
      ]
    },
    {
      "cell_type": "markdown",
      "source": [
        "8. Implement a class Person with a class method to count the total number of persons created.\n",
        "\n",
        "\n"
      ],
      "metadata": {
        "id": "KoJDcB3znonp"
      }
    },
    {
      "cell_type": "code",
      "source": [
        "class Person:\n",
        "    count = 0  # Class variable to keep track of the number of persons\n",
        "\n",
        "    def init(self):\n",
        "        Person.count += 1\n",
        "\n",
        "    @classmethod\n",
        "    def get_person_count(cls):\n",
        "        return cls.count\n",
        "\n",
        "# Example usage:\n",
        "person1 = Person()\n",
        "person2 = Person()\n",
        "person3 = Person()\n",
        "\n",
        "print(f\"Total number of persons created: {Person.get_person_count()}\")"
      ],
      "metadata": {
        "colab": {
          "base_uri": "https://localhost:8080/"
        },
        "id": "N-9zivENnnfw",
        "outputId": "ec3c2698-ee06-4713-cff5-e7c38a4efcb2"
      },
      "execution_count": 29,
      "outputs": [
        {
          "output_type": "stream",
          "name": "stdout",
          "text": [
            "Total number of persons created: 0\n"
          ]
        }
      ]
    },
    {
      "cell_type": "markdown",
      "source": [
        "9. Write a class Fraction with attributes numerator and denominator. Override the str method to display the\n",
        "fraction as \"numerator/denominator\"."
      ],
      "metadata": {
        "id": "z0PodE4xoKk3"
      }
    },
    {
      "cell_type": "code",
      "source": [
        "class Fraction:\n",
        "    def __init__(self, num, den):\n",
        "        if den == 0:\n",
        "            raise ValueError(\"Denominator cannot be zero.\")\n",
        "        self.num = num\n",
        "        self.den = den\n",
        "\n",
        "    def __str__(self):\n",
        "        return f\"{self.num}/{self.den}\"\n",
        "\n",
        "f1 = Fraction(3, 4)\n",
        "print(f1)"
      ],
      "metadata": {
        "colab": {
          "base_uri": "https://localhost:8080/"
        },
        "id": "Cb_EOivxoBVX",
        "outputId": "42254818-708d-4bfa-de36-627b5f8cf0d0"
      },
      "execution_count": 32,
      "outputs": [
        {
          "output_type": "stream",
          "name": "stdout",
          "text": [
            "3/4\n"
          ]
        }
      ]
    },
    {
      "cell_type": "markdown",
      "source": [
        "10. Demonstrate operator overloading by creating a class Vector and overriding the add method to add two\n",
        "vectors."
      ],
      "metadata": {
        "id": "A-8_6jktpP8g"
      }
    },
    {
      "cell_type": "code",
      "source": [
        "class Vec:\n",
        "    def __init__(self, x, y):\n",
        "        self.x = x\n",
        "        self.y = y\n",
        "\n",
        "    def __add__(self, other):\n",
        "        if isinstance(other, Vec):\n",
        "            return Vec(self.x + other.x, self.y + other.y)\n",
        "        raise TypeError(\"Can only add Vec objects.\")\n",
        "\n",
        "    def __str__(self):\n",
        "        return f\"({self.x}, {self.y})\"\n",
        "\n",
        "v1 = Vec(1, 2)\n",
        "v2 = Vec(3, 4)\n",
        "v3 = v1 + v2\n",
        "print(v3)"
      ],
      "metadata": {
        "colab": {
          "base_uri": "https://localhost:8080/"
        },
        "id": "DwNkdxgQorQq",
        "outputId": "c4530116-2e65-446e-c4c7-c1de1253158f"
      },
      "execution_count": 35,
      "outputs": [
        {
          "output_type": "stream",
          "name": "stdout",
          "text": [
            "(4, 6)\n"
          ]
        }
      ]
    },
    {
      "cell_type": "markdown",
      "source": [
        "11. Create a class Person with attributes name and age. Add a method greet() that prints \"Hello, my name is\n",
        "{name} and I am {age} years old.\""
      ],
      "metadata": {
        "id": "HWFSVV-dqALc"
      }
    },
    {
      "cell_type": "code",
      "source": [
        "class Person:\n",
        "    def __init__(self, name, age):\n",
        "        self.name = name\n",
        "        self.age = age\n",
        "\n",
        "    def greet (self):\n",
        "        print(f\"Hello, my name is {self.name} and I am {self.age} years old.\")\n",
        "\n",
        "# Example usage:\n",
        "if __name__ == \"__main__\":\n",
        "    person1 = Person(\"piyush\", 18)\n",
        "    person1.greet()\n",
        "\n",
        "    person2 = Person(\"darshan\", 21)\n",
        "    person2.greet()"
      ],
      "metadata": {
        "colab": {
          "base_uri": "https://localhost:8080/"
        },
        "id": "LImittxEpsOE",
        "outputId": "1afa3476-c400-402d-fb2a-f6be8fa2fb8c"
      },
      "execution_count": 38,
      "outputs": [
        {
          "output_type": "stream",
          "name": "stdout",
          "text": [
            "Hello, my name is piyush and I am 18 years old.\n",
            "Hello, my name is darshan and I am 21 years old.\n"
          ]
        }
      ]
    },
    {
      "cell_type": "markdown",
      "source": [
        "12. Implement a class Student with attributes name and grades. Create a method average_grade() to compute\n",
        "the average of the grades."
      ],
      "metadata": {
        "id": "jag3EW8zq15l"
      }
    },
    {
      "cell_type": "code",
      "source": [
        "class Student:\n",
        "    def __init__(self, name, grades):\n",
        "        self.name = name\n",
        "        self.grades = grades\n",
        "\n",
        "    def average_grade(self):\n",
        "        if not self.grades:\n",
        "            return 0\n",
        "        return sum(self.grades) / len(self.grades)\n",
        "\n",
        "# Example usage:\n",
        "if __name__ == \"__main__\":\n",
        "    student1 = Student(\"Charlie\", [85, 90, 78, 92])\n",
        "    average1 = student1.average_grade()\n",
        "    print(f\"{student1.name}'s average grade: {average1}\")\n",
        "\n",
        "    student2 = Student(\"Diana\", [76, 88, 80])\n",
        "    average2 = student2.average_grade()\n",
        "    print(f\"{student2.name}'s average grade: {average2}\")\n",
        "\n",
        "    student3 = Student(\"Eve\", [])\n",
        "    average3 = student3.average_grade()\n",
        "    print(f\"{student3.name}'s average grade: {average3}\")"
      ],
      "metadata": {
        "colab": {
          "base_uri": "https://localhost:8080/"
        },
        "id": "mGDLsjz_rG2t",
        "outputId": "ae69d22b-a7d4-4c78-a876-8c095f86ae52"
      },
      "execution_count": 40,
      "outputs": [
        {
          "output_type": "stream",
          "name": "stdout",
          "text": [
            "Charlie's average grade: 86.25\n",
            "Diana's average grade: 81.33333333333333\n",
            "Eve's average grade: 0\n"
          ]
        }
      ]
    },
    {
      "cell_type": "markdown",
      "source": [
        "13. Create a class Rectangle with methods set_dimensions() to set the dimensions and area() to calculate the\n",
        "area.\n",
        "\n",
        "\n"
      ],
      "metadata": {
        "id": "3AsPD-LyrGeU"
      }
    },
    {
      "cell_type": "code",
      "source": [
        "class Rect:\n",
        "    def init(self):\n",
        "        self.l = 0\n",
        "        self.w = 0\n",
        "\n",
        "    def set_dims(self, length, width):\n",
        "        if length >= 0 and width >= 0:\n",
        "            self.l = length\n",
        "            self.w = width\n",
        "        else:\n",
        "            print(\"Negative dims!\")\n",
        "\n",
        "    def area(self):\n",
        "        return self.l * self.w\n",
        "\n",
        "r = Rect()\n",
        "r.set_dims(5, 3)\n",
        "print(r.area())"
      ],
      "metadata": {
        "colab": {
          "base_uri": "https://localhost:8080/"
        },
        "id": "nV8P_kKfrawh",
        "outputId": "33c64c07-a2d9-4ec7-a81f-b7b0b810b829"
      },
      "execution_count": 41,
      "outputs": [
        {
          "output_type": "stream",
          "name": "stdout",
          "text": [
            "15\n"
          ]
        }
      ]
    },
    {
      "cell_type": "markdown",
      "source": [
        "14. Create a class Employee with a method calculate_salary() that computes the salary based on hours worked\n",
        "and hourly rate. Create a derived class Manager that adds a bonus to the salary."
      ],
      "metadata": {
        "id": "7jhC9llitJqu"
      }
    },
    {
      "cell_type": "code",
      "source": [
        "class Emp:\n",
        "    def  __init__(self, name, rate):\n",
        "        self.name = name\n",
        "        self.rate = rate\n",
        "\n",
        "    def salary(self, hours):\n",
        "        return hours * self.rate\n",
        "\n",
        "class Mgr(Emp):\n",
        "    def  __init__(self, name, rate, bonus):\n",
        "        super(). __init__(name, rate)\n",
        "        self.bonus = bonus\n",
        "\n",
        "    def salary(self, hours):\n",
        "        return super().salary(hours) + self.bonus\n",
        "\n",
        "e = Emp(\"Piyush\", 20)\n",
        "m = Mgr(\"Darshan\", 30, 500)\n",
        "\n",
        "print(e.salary(40))\n",
        "print(m.salary(45))"
      ],
      "metadata": {
        "colab": {
          "base_uri": "https://localhost:8080/"
        },
        "id": "K64Bj_fatIw0",
        "outputId": "9cb6787c-a5e7-4f9c-800b-8b95aa53dc9d"
      },
      "execution_count": 44,
      "outputs": [
        {
          "output_type": "stream",
          "name": "stdout",
          "text": [
            "800\n",
            "1850\n"
          ]
        }
      ]
    },
    {
      "cell_type": "markdown",
      "source": [
        "15. Create a class Product with attributes name, price, and quantity. Implement a method total_price() that\n",
        "calculates the total price of the product."
      ],
      "metadata": {
        "id": "HwIedsCltt55"
      }
    },
    {
      "cell_type": "code",
      "source": [
        "class Product:\n",
        "    def __init__(self, name, price, quantity):\n",
        "        self.name = name\n",
        "        self.price = price\n",
        "        self.quantity = quantity\n",
        "\n",
        "    def total_price(self):\n",
        "        return self.price * self.quantity\n",
        "\n",
        "# Example usage:\n",
        "if __name__ == \"__main__\":\n",
        "    product1 = Product(\"Laptop\", 1200.00, 5)\n",
        "    total1 = product1.total_price()\n",
        "    print(f\"Total price of {product1.quantity} {product1.name}s: ${total1:.2f}\")\n",
        "\n",
        "    product2 = Product(\"Book\", 15.50, 10)\n",
        "    total2 = product2.total_price()\n",
        "    print(f\"Total price of {product2.quantity} {product2.name}s: ${total2:.2f}\")"
      ],
      "metadata": {
        "colab": {
          "base_uri": "https://localhost:8080/"
        },
        "id": "AaqMSqiptSKZ",
        "outputId": "6b540495-2dfb-4bec-89d4-8a9fccf7f028"
      },
      "execution_count": 46,
      "outputs": [
        {
          "output_type": "stream",
          "name": "stdout",
          "text": [
            "Total price of 5 Laptops: $6000.00\n",
            "Total price of 10 Books: $155.00\n"
          ]
        }
      ]
    },
    {
      "cell_type": "markdown",
      "source": [
        "16. Create a class Animal with an abstract method sound(). Create two derived classes Cow and Sheep that\n",
        "implement the sound() method.\n",
        "\n",
        "\n"
      ],
      "metadata": {
        "id": "SSDokvDxuREc"
      }
    },
    {
      "cell_type": "code",
      "source": [
        "from abc import ABC, abstractmethod\n",
        "\n",
        "class Animal(ABC):\n",
        "    @abstractmethod\n",
        "    def sound(self):\n",
        "        pass\n",
        "\n",
        "class Cow(Animal):\n",
        "    def sound(self):\n",
        "        print(\"Moo!\")\n",
        "\n",
        "class Sheep(Animal):\n",
        "    def sound(self):\n",
        "        print(\"Baa!\")\n",
        "\n",
        "# Example usage:\n",
        "if __name__ == \"__main__\":\n",
        "    def animal_sound(animal):\n",
        "        animal.sound()\n",
        "\n",
        "    cow = Cow()\n",
        "    sheep = Sheep()\n",
        "\n",
        "    animal_sound(cow)\n",
        "    animal_sound(sheep)\n",
        "\n",
        "    animals = [cow, sheep]\n",
        "    for animal in animals:\n",
        "        animal.sound()"
      ],
      "metadata": {
        "colab": {
          "base_uri": "https://localhost:8080/"
        },
        "id": "QKPl6CZtuZcE",
        "outputId": "17dc7293-709d-4d81-eefd-fe445bebd1e9"
      },
      "execution_count": 48,
      "outputs": [
        {
          "output_type": "stream",
          "name": "stdout",
          "text": [
            "Moo!\n",
            "Baa!\n",
            "Moo!\n",
            "Baa!\n"
          ]
        }
      ]
    },
    {
      "cell_type": "markdown",
      "source": [
        "17. Create a class Book with attributes title, author, and year_published. Add a method get_book_info() that\n",
        "returns a formatted string with the book's details."
      ],
      "metadata": {
        "id": "d8gWQ7Rxum27"
      }
    },
    {
      "cell_type": "code",
      "source": [
        "class Book:\n",
        "    def __init__(self, title, author, year_published):\n",
        "        self.title = title\n",
        "        self.author = author\n",
        "        self.year_published = year_published # Ensure this line is correctly indented\n",
        "\n",
        "    def get_book_info(self):\n",
        "        return f\"Title: {self.title}, Author: {self.author}, Year Published: {self.year_published}\"\n",
        "\n",
        "# Example usage:\n",
        "if __name__ == \"__main__\":\n",
        "    book1 = Book(\"Aaganifankh\", \"abdul kalam\", 1979)\n",
        "    info1 = book1.get_book_info()\n",
        "    print(info1)\n",
        "\n",
        "\n",
        ""
      ],
      "metadata": {
        "colab": {
          "base_uri": "https://localhost:8080/"
        },
        "id": "2XoDC_uTumBL",
        "outputId": "9966d99d-418b-483a-ff87-255b2c465322"
      },
      "execution_count": 55,
      "outputs": [
        {
          "output_type": "stream",
          "name": "stdout",
          "text": [
            "Title: Aaganifankh, Author: abdul kalam, Year Published: 1979\n"
          ]
        }
      ]
    },
    {
      "cell_type": "markdown",
      "source": [
        "18. Create a class House with attributes address and price. Create a derived class Mansion that adds an\n",
        "attribute number_of_rooms."
      ],
      "metadata": {
        "id": "RDHdO6wJvbv3"
      }
    },
    {
      "cell_type": "code",
      "source": [
        "class House:\n",
        "    def init(self, address, price):\n",
        "        self.address = address\n",
        "        self.price = price\n",
        "\n",
        "class Mansion(House):\n",
        "    def init(self, address, price, number_of_rooms):\n",
        "        super().init(address, price)\n",
        "        self.number_of_rooms = number_of_rooms\n",
        "\n",
        "# Example usage:\n",
        "if __name__ == \"__main__\":\n",
        "    house1 = House(\"123 Main St\", 250000)\n",
        "    print(f\"House at {house1.address} costs ${house1.price}\")\n",
        "\n",
        "    mansion1 = Mansion(\"456 Grand Ave\", 1500000, 15)\n",
        "    print(f\"Mansion at {mansion1.address} costs ${mansion1.price} and has {mansion1.number_of_rooms} rooms.\")"
      ],
      "metadata": {
        "colab": {
          "base_uri": "https://localhost:8080/",
          "height": 211
        },
        "id": "bitChsP2uaqE",
        "outputId": "d75d21d0-8407-461b-a434-d474d1c17f6e"
      },
      "execution_count": 59,
      "outputs": [
        {
          "output_type": "error",
          "ename": "TypeError",
          "evalue": "House() takes no arguments",
          "traceback": [
            "\u001b[0;31m---------------------------------------------------------------------------\u001b[0m",
            "\u001b[0;31mTypeError\u001b[0m                                 Traceback (most recent call last)",
            "\u001b[0;32m<ipython-input-59-b8b6d4765335>\u001b[0m in \u001b[0;36m<cell line: 0>\u001b[0;34m()\u001b[0m\n\u001b[1;32m     11\u001b[0m \u001b[0;31m# Example usage:\u001b[0m\u001b[0;34m\u001b[0m\u001b[0;34m\u001b[0m\u001b[0m\n\u001b[1;32m     12\u001b[0m \u001b[0;32mif\u001b[0m \u001b[0m__name__\u001b[0m \u001b[0;34m==\u001b[0m \u001b[0;34m\"__main__\"\u001b[0m\u001b[0;34m:\u001b[0m\u001b[0;34m\u001b[0m\u001b[0;34m\u001b[0m\u001b[0m\n\u001b[0;32m---> 13\u001b[0;31m     \u001b[0mhouse1\u001b[0m \u001b[0;34m=\u001b[0m \u001b[0mHouse\u001b[0m\u001b[0;34m(\u001b[0m\u001b[0;34m\"123 Main St\"\u001b[0m\u001b[0;34m,\u001b[0m \u001b[0;36m250000\u001b[0m\u001b[0;34m)\u001b[0m\u001b[0;34m\u001b[0m\u001b[0;34m\u001b[0m\u001b[0m\n\u001b[0m\u001b[1;32m     14\u001b[0m     \u001b[0mprint\u001b[0m\u001b[0;34m(\u001b[0m\u001b[0;34mf\"House at {house1.address} costs ${house1.price}\"\u001b[0m\u001b[0;34m)\u001b[0m\u001b[0;34m\u001b[0m\u001b[0;34m\u001b[0m\u001b[0m\n\u001b[1;32m     15\u001b[0m \u001b[0;34m\u001b[0m\u001b[0m\n",
            "\u001b[0;31mTypeError\u001b[0m: House() takes no arguments"
          ]
        }
      ]
    },
    {
      "cell_type": "code",
      "source": [],
      "metadata": {
        "id": "iNfkfcMsvsYD"
      },
      "execution_count": null,
      "outputs": []
    }
  ]
}